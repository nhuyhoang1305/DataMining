{
  "nbformat": 4,
  "nbformat_minor": 0,
  "metadata": {
    "colab": {
      "name": "solution.ipynb",
      "provenance": []
    },
    "kernelspec": {
      "name": "python3",
      "display_name": "Python 3"
    }
  },
  "cells": [
    {
      "cell_type": "code",
      "metadata": {
        "id": "APat_-kVDEx-"
      },
      "source": [
        "import pandas as pd\n",
        "import numpy as np\n",
        "import matplotlib.pyplot as plt"
      ],
      "execution_count": null,
      "outputs": []
    },
    {
      "cell_type": "code",
      "metadata": {
        "colab": {
          "base_uri": "https://localhost:8080/",
          "height": 359
        },
        "id": "NUFxBkFnDjwO",
        "outputId": "dadcf8db-68ec-4d7e-97f5-0003cd59fd58"
      },
      "source": [
        "# Train data\n",
        "train = pd.read_csv('train_data.csv')\n",
        "train.head(n=10)"
      ],
      "execution_count": null,
      "outputs": [
        {
          "output_type": "execute_result",
          "data": {
            "text/html": [
              "<div>\n",
              "<style scoped>\n",
              "    .dataframe tbody tr th:only-of-type {\n",
              "        vertical-align: middle;\n",
              "    }\n",
              "\n",
              "    .dataframe tbody tr th {\n",
              "        vertical-align: top;\n",
              "    }\n",
              "\n",
              "    .dataframe thead th {\n",
              "        text-align: right;\n",
              "    }\n",
              "</style>\n",
              "<table border=\"1\" class=\"dataframe\">\n",
              "  <thead>\n",
              "    <tr style=\"text-align: right;\">\n",
              "      <th></th>\n",
              "      <th>title</th>\n",
              "      <th>data</th>\n",
              "    </tr>\n",
              "  </thead>\n",
              "  <tbody>\n",
              "    <tr>\n",
              "      <th>0</th>\n",
              "      <td>__label__18-24</td>\n",
              "      <td>1917715178553519 866004230174021 5677300099090...</td>\n",
              "    </tr>\n",
              "    <tr>\n",
              "      <th>1</th>\n",
              "      <td>__label__55+</td>\n",
              "      <td>1549131271824144 544900528944370 1003942339965...</td>\n",
              "    </tr>\n",
              "    <tr>\n",
              "      <th>2</th>\n",
              "      <td>__label__18-24</td>\n",
              "      <td>708982919265866 1691719041155281</td>\n",
              "    </tr>\n",
              "    <tr>\n",
              "      <th>3</th>\n",
              "      <td>__label__55+</td>\n",
              "      <td>207189973202782 236035250274969 17434375003039...</td>\n",
              "    </tr>\n",
              "    <tr>\n",
              "      <th>4</th>\n",
              "      <td>__label__45-54</td>\n",
              "      <td>721926094625837 1868157670136246 1606679136294...</td>\n",
              "    </tr>\n",
              "    <tr>\n",
              "      <th>5</th>\n",
              "      <td>__label__18-24</td>\n",
              "      <td>426003864523918 107418812730138 16350066757891...</td>\n",
              "    </tr>\n",
              "    <tr>\n",
              "      <th>6</th>\n",
              "      <td>__label__25-34</td>\n",
              "      <td>390778261331214 372809096205922 12389533628014...</td>\n",
              "    </tr>\n",
              "    <tr>\n",
              "      <th>7</th>\n",
              "      <td>__label__45-54</td>\n",
              "      <td>130769934251370 833301643369441</td>\n",
              "    </tr>\n",
              "    <tr>\n",
              "      <th>8</th>\n",
              "      <td>__label__25-34</td>\n",
              "      <td>899640426733908 498710223497210 54414286240280...</td>\n",
              "    </tr>\n",
              "    <tr>\n",
              "      <th>9</th>\n",
              "      <td>__label__25-34</td>\n",
              "      <td>1513217328975937 881814218548682 3836561084061...</td>\n",
              "    </tr>\n",
              "  </tbody>\n",
              "</table>\n",
              "</div>"
            ],
            "text/plain": [
              "            title                                               data\n",
              "0  __label__18-24  1917715178553519 866004230174021 5677300099090...\n",
              "1    __label__55+  1549131271824144 544900528944370 1003942339965...\n",
              "2  __label__18-24                   708982919265866 1691719041155281\n",
              "3    __label__55+  207189973202782 236035250274969 17434375003039...\n",
              "4  __label__45-54  721926094625837 1868157670136246 1606679136294...\n",
              "5  __label__18-24  426003864523918 107418812730138 16350066757891...\n",
              "6  __label__25-34  390778261331214 372809096205922 12389533628014...\n",
              "7  __label__45-54                    130769934251370 833301643369441\n",
              "8  __label__25-34  899640426733908 498710223497210 54414286240280...\n",
              "9  __label__25-34  1513217328975937 881814218548682 3836561084061..."
            ]
          },
          "metadata": {
            "tags": []
          },
          "execution_count": 4
        }
      ]
    },
    {
      "cell_type": "code",
      "metadata": {
        "colab": {
          "base_uri": "https://localhost:8080/",
          "height": 359
        },
        "id": "XJMN4TJQDwHR",
        "outputId": "16b13b94-36d4-4323-f324-dfacfa67e2d4"
      },
      "source": [
        "# Test data\n",
        "test = pd.read_csv('data_for_test.csv')\n",
        "test.head(n=10)"
      ],
      "execution_count": null,
      "outputs": [
        {
          "output_type": "execute_result",
          "data": {
            "text/html": [
              "<div>\n",
              "<style scoped>\n",
              "    .dataframe tbody tr th:only-of-type {\n",
              "        vertical-align: middle;\n",
              "    }\n",
              "\n",
              "    .dataframe tbody tr th {\n",
              "        vertical-align: top;\n",
              "    }\n",
              "\n",
              "    .dataframe thead th {\n",
              "        text-align: right;\n",
              "    }\n",
              "</style>\n",
              "<table border=\"1\" class=\"dataframe\">\n",
              "  <thead>\n",
              "    <tr style=\"text-align: right;\">\n",
              "      <th></th>\n",
              "      <th>data</th>\n",
              "    </tr>\n",
              "  </thead>\n",
              "  <tbody>\n",
              "    <tr>\n",
              "      <th>0</th>\n",
              "      <td>1516066978617491 203034046973744 1790864221223...</td>\n",
              "    </tr>\n",
              "    <tr>\n",
              "      <th>1</th>\n",
              "      <td>1802796346689443 1500653306612601 103169509694...</td>\n",
              "    </tr>\n",
              "    <tr>\n",
              "      <th>2</th>\n",
              "      <td>195820021235475 259202637839186 43681858976204...</td>\n",
              "    </tr>\n",
              "    <tr>\n",
              "      <th>3</th>\n",
              "      <td>2056365137910940 653191634844649 1747444955568...</td>\n",
              "    </tr>\n",
              "    <tr>\n",
              "      <th>4</th>\n",
              "      <td>313390485427979 464527593637994 19912760712863...</td>\n",
              "    </tr>\n",
              "    <tr>\n",
              "      <th>5</th>\n",
              "      <td>100802116791906</td>\n",
              "    </tr>\n",
              "    <tr>\n",
              "      <th>6</th>\n",
              "      <td>424163804628076 1287991051244372 1490894023997...</td>\n",
              "    </tr>\n",
              "    <tr>\n",
              "      <th>7</th>\n",
              "      <td>1416190268411395</td>\n",
              "    </tr>\n",
              "    <tr>\n",
              "      <th>8</th>\n",
              "      <td>261396520702360 415793858487646 35579238142041...</td>\n",
              "    </tr>\n",
              "    <tr>\n",
              "      <th>9</th>\n",
              "      <td>238001596744209 1507052469417587 1706808629341...</td>\n",
              "    </tr>\n",
              "  </tbody>\n",
              "</table>\n",
              "</div>"
            ],
            "text/plain": [
              "                                                data\n",
              "0  1516066978617491 203034046973744 1790864221223...\n",
              "1  1802796346689443 1500653306612601 103169509694...\n",
              "2  195820021235475 259202637839186 43681858976204...\n",
              "3  2056365137910940 653191634844649 1747444955568...\n",
              "4  313390485427979 464527593637994 19912760712863...\n",
              "5                                    100802116791906\n",
              "6  424163804628076 1287991051244372 1490894023997...\n",
              "7                                   1416190268411395\n",
              "8  261396520702360 415793858487646 35579238142041...\n",
              "9  238001596744209 1507052469417587 1706808629341..."
            ]
          },
          "metadata": {
            "tags": []
          },
          "execution_count": 5
        }
      ]
    },
    {
      "cell_type": "code",
      "metadata": {
        "colab": {
          "base_uri": "https://localhost:8080/"
        },
        "id": "eMuLm2LXD_H1",
        "outputId": "12d896e1-0afb-4c56-8683-bbc1ccc318ef"
      },
      "source": [
        "#check that there are no missing values in either training set\n",
        "print('The dataset has', train.isna().sum().sum(), 'missing values in train data.')\n",
        "print('The dataset has', test.isna().sum().sum(), 'missing values in test data.')\n",
        "\n",
        "# check if there are any duplicates\n",
        "print('The dataset has', train.duplicated().sum(), 'duplicates in train data.')\n",
        "print('The dataset has', test.duplicated().sum(), 'duplicates in test data.')"
      ],
      "execution_count": null,
      "outputs": [
        {
          "output_type": "stream",
          "text": [
            "The dataset has 0 missing values in train data.\n",
            "The dataset has 0 missing values in test data.\n",
            "The dataset has 0 duplicates in train data.\n",
            "The dataset has 24 duplicates in test data.\n"
          ],
          "name": "stdout"
        }
      ]
    },
    {
      "cell_type": "code",
      "metadata": {
        "id": "KQ9M6LsaECGF"
      },
      "source": [
        "# remove duplicates in train data\n",
        "train.drop_duplicates(subset=['title', 'data'], inplace=True)"
      ],
      "execution_count": null,
      "outputs": []
    },
    {
      "cell_type": "code",
      "metadata": {
        "id": "u3FwOtKmEDpi"
      },
      "source": [
        "# remove duplicates in test data\n",
        "test.drop_duplicates(subset=['data'], inplace=True)"
      ],
      "execution_count": null,
      "outputs": []
    },
    {
      "cell_type": "markdown",
      "metadata": {
        "id": "Gexc2TADEHdb"
      },
      "source": [
        "**DATA PREPROCESSING**"
      ]
    },
    {
      "cell_type": "code",
      "metadata": {
        "id": "ADRH2PDIHLdX"
      },
      "source": [
        ""
      ],
      "execution_count": null,
      "outputs": []
    },
    {
      "cell_type": "code",
      "metadata": {
        "id": "bh6Pm-y9EKFa"
      },
      "source": [
        "X_train, y_train = train['data'], train['title']\n",
        "X_test = test['data']"
      ],
      "execution_count": null,
      "outputs": []
    },
    {
      "cell_type": "markdown",
      "metadata": {
        "id": "XOwc4gksE1pu"
      },
      "source": [
        "\n",
        "\n",
        "*   *Transforming text to a vector*\n",
        "*Creating tf-idf feature\n",
        "\n",
        "\n",
        "*   encode labels\n",
        "*   compute tf-idf\n",
        "\n",
        "https://www.kaggle.com/roccoli/multi-label-classification-with-sklearn\n",
        "\n",
        "\n",
        "\n"
      ]
    },
    {
      "cell_type": "code",
      "metadata": {
        "id": "m3JZr0gjFNU0"
      },
      "source": [
        "from sklearn.feature_extraction.text import CountVectorizer\n",
        "from sklearn.feature_extraction.text import TfidfVectorizer\n",
        "from sklearn.preprocessing import MultiLabelBinarizer\n",
        "# create a count vectorizer object\n",
        "count_vect = CountVectorizer(analyzer='word', token_pattern=r'\\w{1,}')\n",
        "count_vect.fit(X_train)\n",
        "# Transform documents to document-term matrix.\n",
        "X_train_count = count_vect.transform(X_train)\n",
        "X_test_count = count_vect.transform(X_test)\n",
        "\n",
        "# preprocessing\n",
        "multilabel_binarizer = MultiLabelBinarizer()\n",
        "multilabel_binarizer.fit(y_train)\n",
        "Y = multilabel_binarizer.transform(y_train)\n",
        "\n",
        "tfidf_vect = TfidfVectorizer(analyzer='word', max_features=90000)\n",
        "tfidf_vect.fit(X_train) # learn vocabulary and idf from training set\n",
        "X_data_tfidf = tfidf_vect.transform(X_train)\n",
        "# giả sử không có tập test trước đó \n",
        "X_test_tfidf = tfidf_vect.transform(X_test)\n"
      ],
      "execution_count": null,
      "outputs": []
    },
    {
      "cell_type": "code",
      "metadata": {
        "colab": {
          "base_uri": "https://localhost:8080/"
        },
        "id": "P80V3OYzU_JY",
        "outputId": "49e5b9a6-b955-405d-e7ee-e35475c676c8"
      },
      "source": [
        "y_train"
      ],
      "execution_count": null,
      "outputs": [
        {
          "output_type": "execute_result",
          "data": {
            "text/plain": [
              "0        __label__18-24\n",
              "1          __label__55+\n",
              "2        __label__18-24\n",
              "3          __label__55+\n",
              "4        __label__45-54\n",
              "              ...      \n",
              "32117    __label__35-44\n",
              "32118    __label__25-34\n",
              "32119    __label__25-34\n",
              "32120    __label__35-44\n",
              "32121    __label__25-34\n",
              "Name: title, Length: 32003, dtype: object"
            ]
          },
          "metadata": {
            "tags": []
          },
          "execution_count": 40
        }
      ]
    },
    {
      "cell_type": "markdown",
      "metadata": {
        "id": "WKSHfKByKkjc"
      },
      "source": [
        "**Training a classifier**"
      ]
    },
    {
      "cell_type": "code",
      "metadata": {
        "id": "eXIwzMlIKwba"
      },
      "source": [
        "from sklearn.naive_bayes import MultinomialNB, BernoulliNB\n",
        "from sklearn.linear_model import LogisticRegression\n",
        "from sklearn.linear_model import SGDClassifier\n",
        "from sklearn.metrics import accuracy_score"
      ],
      "execution_count": null,
      "outputs": []
    },
    {
      "cell_type": "code",
      "metadata": {
        "id": "IAzVTepBKxpM"
      },
      "source": [
        "def train_model(classifier, X_train, y_train, X_test):           \n",
        "    classifier.fit(X_train, y_train)\n",
        "    train_predictions = classifier.predict(X_train)\n",
        "    test_predictions = classifier.predict(X_test)        \n",
        "    print(\"Training accuracy: \", accuracy_score(train_predictions, y_train))    \n",
        "\n",
        "    return test_predictions"
      ],
      "execution_count": null,
      "outputs": []
    },
    {
      "cell_type": "markdown",
      "metadata": {
        "id": "I3wmBqwUTkr5"
      },
      "source": [
        "**Result 1**"
      ]
    },
    {
      "cell_type": "code",
      "metadata": {
        "colab": {
          "base_uri": "https://localhost:8080/",
          "height": 306
        },
        "id": "K6b0m9vuLPRY",
        "outputId": "5d55dde4-cc28-435e-aaa1-338966d408c6"
      },
      "source": [
        "result = train_model(SGDClassifier(), X_data_tfidf, y_train, X_test_tfidf)"
      ],
      "execution_count": null,
      "outputs": [
        {
          "output_type": "error",
          "ename": "ValueError",
          "evalue": "ignored",
          "traceback": [
            "\u001b[0;31m---------------------------------------------------------------------------\u001b[0m",
            "\u001b[0;31mValueError\u001b[0m                                Traceback (most recent call last)",
            "\u001b[0;32m<ipython-input-19-f19933fa5352>\u001b[0m in \u001b[0;36m<module>\u001b[0;34m()\u001b[0m\n\u001b[0;32m----> 1\u001b[0;31m \u001b[0mresult\u001b[0m \u001b[0;34m=\u001b[0m \u001b[0mtrain_model\u001b[0m\u001b[0;34m(\u001b[0m\u001b[0mSGDClassifier\u001b[0m\u001b[0;34m(\u001b[0m\u001b[0;34m)\u001b[0m\u001b[0;34m,\u001b[0m \u001b[0mX_data_tfidf\u001b[0m\u001b[0;34m,\u001b[0m \u001b[0mY\u001b[0m\u001b[0;34m,\u001b[0m \u001b[0mX_test_tfidf\u001b[0m\u001b[0;34m,\u001b[0m \u001b[0mis_neuralnet\u001b[0m\u001b[0;34m=\u001b[0m\u001b[0;32mFalse\u001b[0m\u001b[0;34m)\u001b[0m\u001b[0;34m\u001b[0m\u001b[0;34m\u001b[0m\u001b[0m\n\u001b[0m",
            "\u001b[0;32m<ipython-input-11-d5c718cdbe79>\u001b[0m in \u001b[0;36mtrain_model\u001b[0;34m(classifier, X_train, y_train, X_test, is_neuralnet, n_epochs)\u001b[0m\n\u001b[1;32m      5\u001b[0m         \u001b[0mtest_predictions\u001b[0m \u001b[0;34m=\u001b[0m \u001b[0mtest_predictions\u001b[0m\u001b[0;34m.\u001b[0m\u001b[0margmax\u001b[0m\u001b[0;34m(\u001b[0m\u001b[0maxis\u001b[0m\u001b[0;34m=\u001b[0m\u001b[0;34m-\u001b[0m\u001b[0;36m1\u001b[0m\u001b[0;34m)\u001b[0m\u001b[0;34m\u001b[0m\u001b[0;34m\u001b[0m\u001b[0m\n\u001b[1;32m      6\u001b[0m     \u001b[0;32melse\u001b[0m\u001b[0;34m:\u001b[0m\u001b[0;34m\u001b[0m\u001b[0;34m\u001b[0m\u001b[0m\n\u001b[0;32m----> 7\u001b[0;31m         \u001b[0mclassifier\u001b[0m\u001b[0;34m.\u001b[0m\u001b[0mfit\u001b[0m\u001b[0;34m(\u001b[0m\u001b[0mX_train\u001b[0m\u001b[0;34m,\u001b[0m \u001b[0my_train\u001b[0m\u001b[0;34m)\u001b[0m\u001b[0;34m\u001b[0m\u001b[0;34m\u001b[0m\u001b[0m\n\u001b[0m\u001b[1;32m      8\u001b[0m         \u001b[0mtrain_predictions\u001b[0m \u001b[0;34m=\u001b[0m \u001b[0mclassifier\u001b[0m\u001b[0;34m.\u001b[0m\u001b[0mpredict\u001b[0m\u001b[0;34m(\u001b[0m\u001b[0mX_train\u001b[0m\u001b[0;34m)\u001b[0m\u001b[0;34m\u001b[0m\u001b[0;34m\u001b[0m\u001b[0m\n\u001b[1;32m      9\u001b[0m         \u001b[0mtest_predictions\u001b[0m \u001b[0;34m=\u001b[0m \u001b[0mclassifier\u001b[0m\u001b[0;34m.\u001b[0m\u001b[0mpredict\u001b[0m\u001b[0;34m(\u001b[0m\u001b[0mX_test\u001b[0m\u001b[0;34m)\u001b[0m\u001b[0;34m\u001b[0m\u001b[0;34m\u001b[0m\u001b[0m\n",
            "\u001b[0;32m/usr/local/lib/python3.6/dist-packages/sklearn/linear_model/_stochastic_gradient.py\u001b[0m in \u001b[0;36mfit\u001b[0;34m(self, X, y, coef_init, intercept_init, sample_weight)\u001b[0m\n\u001b[1;32m    709\u001b[0m                          \u001b[0mloss\u001b[0m\u001b[0;34m=\u001b[0m\u001b[0mself\u001b[0m\u001b[0;34m.\u001b[0m\u001b[0mloss\u001b[0m\u001b[0;34m,\u001b[0m \u001b[0mlearning_rate\u001b[0m\u001b[0;34m=\u001b[0m\u001b[0mself\u001b[0m\u001b[0;34m.\u001b[0m\u001b[0mlearning_rate\u001b[0m\u001b[0;34m,\u001b[0m\u001b[0;34m\u001b[0m\u001b[0;34m\u001b[0m\u001b[0m\n\u001b[1;32m    710\u001b[0m                          \u001b[0mcoef_init\u001b[0m\u001b[0;34m=\u001b[0m\u001b[0mcoef_init\u001b[0m\u001b[0;34m,\u001b[0m \u001b[0mintercept_init\u001b[0m\u001b[0;34m=\u001b[0m\u001b[0mintercept_init\u001b[0m\u001b[0;34m,\u001b[0m\u001b[0;34m\u001b[0m\u001b[0;34m\u001b[0m\u001b[0m\n\u001b[0;32m--> 711\u001b[0;31m                          sample_weight=sample_weight)\n\u001b[0m\u001b[1;32m    712\u001b[0m \u001b[0;34m\u001b[0m\u001b[0m\n\u001b[1;32m    713\u001b[0m \u001b[0;34m\u001b[0m\u001b[0m\n",
            "\u001b[0;32m/usr/local/lib/python3.6/dist-packages/sklearn/linear_model/_stochastic_gradient.py\u001b[0m in \u001b[0;36m_fit\u001b[0;34m(self, X, y, alpha, C, loss, learning_rate, coef_init, intercept_init, sample_weight)\u001b[0m\n\u001b[1;32m    523\u001b[0m \u001b[0;34m\u001b[0m\u001b[0m\n\u001b[1;32m    524\u001b[0m         X, y = check_X_y(X, y, 'csr', dtype=np.float64, order=\"C\",\n\u001b[0;32m--> 525\u001b[0;31m                          accept_large_sparse=False)\n\u001b[0m\u001b[1;32m    526\u001b[0m \u001b[0;34m\u001b[0m\u001b[0m\n\u001b[1;32m    527\u001b[0m         \u001b[0;31m# labels can be encoded as float, int, or string literals\u001b[0m\u001b[0;34m\u001b[0m\u001b[0;34m\u001b[0m\u001b[0;34m\u001b[0m\u001b[0m\n",
            "\u001b[0;32m/usr/local/lib/python3.6/dist-packages/sklearn/utils/validation.py\u001b[0m in \u001b[0;36mcheck_X_y\u001b[0;34m(X, y, accept_sparse, accept_large_sparse, dtype, order, copy, force_all_finite, ensure_2d, allow_nd, multi_output, ensure_min_samples, ensure_min_features, y_numeric, warn_on_dtype, estimator)\u001b[0m\n\u001b[1;32m    758\u001b[0m                         dtype=None)\n\u001b[1;32m    759\u001b[0m     \u001b[0;32melse\u001b[0m\u001b[0;34m:\u001b[0m\u001b[0;34m\u001b[0m\u001b[0;34m\u001b[0m\u001b[0m\n\u001b[0;32m--> 760\u001b[0;31m         \u001b[0my\u001b[0m \u001b[0;34m=\u001b[0m \u001b[0mcolumn_or_1d\u001b[0m\u001b[0;34m(\u001b[0m\u001b[0my\u001b[0m\u001b[0;34m,\u001b[0m \u001b[0mwarn\u001b[0m\u001b[0;34m=\u001b[0m\u001b[0;32mTrue\u001b[0m\u001b[0;34m)\u001b[0m\u001b[0;34m\u001b[0m\u001b[0;34m\u001b[0m\u001b[0m\n\u001b[0m\u001b[1;32m    761\u001b[0m         \u001b[0m_assert_all_finite\u001b[0m\u001b[0;34m(\u001b[0m\u001b[0my\u001b[0m\u001b[0;34m)\u001b[0m\u001b[0;34m\u001b[0m\u001b[0;34m\u001b[0m\u001b[0m\n\u001b[1;32m    762\u001b[0m     \u001b[0;32mif\u001b[0m \u001b[0my_numeric\u001b[0m \u001b[0;32mand\u001b[0m \u001b[0my\u001b[0m\u001b[0;34m.\u001b[0m\u001b[0mdtype\u001b[0m\u001b[0;34m.\u001b[0m\u001b[0mkind\u001b[0m \u001b[0;34m==\u001b[0m \u001b[0;34m'O'\u001b[0m\u001b[0;34m:\u001b[0m\u001b[0;34m\u001b[0m\u001b[0;34m\u001b[0m\u001b[0m\n",
            "\u001b[0;32m/usr/local/lib/python3.6/dist-packages/sklearn/utils/validation.py\u001b[0m in \u001b[0;36mcolumn_or_1d\u001b[0;34m(y, warn)\u001b[0m\n\u001b[1;32m    795\u001b[0m         \u001b[0;32mreturn\u001b[0m \u001b[0mnp\u001b[0m\u001b[0;34m.\u001b[0m\u001b[0mravel\u001b[0m\u001b[0;34m(\u001b[0m\u001b[0my\u001b[0m\u001b[0;34m)\u001b[0m\u001b[0;34m\u001b[0m\u001b[0;34m\u001b[0m\u001b[0m\n\u001b[1;32m    796\u001b[0m \u001b[0;34m\u001b[0m\u001b[0m\n\u001b[0;32m--> 797\u001b[0;31m     \u001b[0;32mraise\u001b[0m \u001b[0mValueError\u001b[0m\u001b[0;34m(\u001b[0m\u001b[0;34m\"bad input shape {0}\"\u001b[0m\u001b[0;34m.\u001b[0m\u001b[0mformat\u001b[0m\u001b[0;34m(\u001b[0m\u001b[0mshape\u001b[0m\u001b[0;34m)\u001b[0m\u001b[0;34m)\u001b[0m\u001b[0;34m\u001b[0m\u001b[0;34m\u001b[0m\u001b[0m\n\u001b[0m\u001b[1;32m    798\u001b[0m \u001b[0;34m\u001b[0m\u001b[0m\n\u001b[1;32m    799\u001b[0m \u001b[0;34m\u001b[0m\u001b[0m\n",
            "\u001b[0;31mValueError\u001b[0m: bad input shape (32003, 13)"
          ]
        }
      ]
    },
    {
      "cell_type": "code",
      "metadata": {
        "colab": {
          "base_uri": "https://localhost:8080/"
        },
        "id": "g0Ll26Z_Lhba",
        "outputId": "23028185-6210-407f-a297-daa25069bf6f"
      },
      "source": [
        "len(result)"
      ],
      "execution_count": null,
      "outputs": [
        {
          "output_type": "execute_result",
          "data": {
            "text/plain": [
              "13768"
            ]
          },
          "metadata": {
            "tags": []
          },
          "execution_count": 28
        }
      ]
    },
    {
      "cell_type": "code",
      "metadata": {
        "id": "kRy2uxJ3Lra6"
      },
      "source": [
        "import csv\n",
        "file = './nhom10_AD_SOL1.txt'\n",
        "with open(file, 'w') as f:\n",
        "    for data in result:\n",
        "        f.writelines(data + \"\\n\")"
      ],
      "execution_count": null,
      "outputs": []
    },
    {
      "cell_type": "markdown",
      "metadata": {
        "id": "RWM7Vi9cTo_H"
      },
      "source": [
        "**Result 2**"
      ]
    },
    {
      "cell_type": "code",
      "metadata": {
        "colab": {
          "base_uri": "https://localhost:8080/"
        },
        "id": "p8lNsvN7TGpR",
        "outputId": "b3dd1403-b774-4235-d009-c6299a344acb"
      },
      "source": [
        "result2 = train_model(MultinomialNB(), X_data_tfidf, y_train, X_test_tfidf)"
      ],
      "execution_count": null,
      "outputs": [
        {
          "output_type": "stream",
          "text": [
            "Training accuracy:  0.7679280067493672\n"
          ],
          "name": "stdout"
        }
      ]
    },
    {
      "cell_type": "code",
      "metadata": {
        "colab": {
          "base_uri": "https://localhost:8080/"
        },
        "id": "1p3mcT04TMXl",
        "outputId": "c3442373-d6d9-4d17-f80b-6a70ae846f03"
      },
      "source": [
        "len(result2)"
      ],
      "execution_count": null,
      "outputs": [
        {
          "output_type": "execute_result",
          "data": {
            "text/plain": [
              "13768"
            ]
          },
          "metadata": {
            "tags": []
          },
          "execution_count": 32
        }
      ]
    },
    {
      "cell_type": "code",
      "metadata": {
        "id": "0_4UM_j6TQwR"
      },
      "source": [
        "file = './nhom10_AD_SOL2.txt'\n",
        "with open(file, 'w') as f:\n",
        "    for data in result2:\n",
        "        f.writelines(data + \"\\n\")"
      ],
      "execution_count": null,
      "outputs": []
    },
    {
      "cell_type": "markdown",
      "metadata": {
        "id": "UtWV39jETreP"
      },
      "source": [
        "**Result 3**"
      ]
    },
    {
      "cell_type": "code",
      "metadata": {
        "colab": {
          "base_uri": "https://localhost:8080/"
        },
        "id": "BruTKm7kThPx",
        "outputId": "6008601f-09c2-4711-c837-2be75df0a604"
      },
      "source": [
        "from sklearn.neighbors import NearestCentroid\n",
        "result3 = train_model(NearestCentroid(), X_data_tfidf, y_train, X_test_tfidf)"
      ],
      "execution_count": null,
      "outputs": [
        {
          "output_type": "stream",
          "text": [
            "Training accuracy:  0.7482111052088867\n"
          ],
          "name": "stdout"
        }
      ]
    },
    {
      "cell_type": "code",
      "metadata": {
        "id": "TTUJ6MTCT_7K"
      },
      "source": [
        "file = './nhom10_AD_SOL3.txt'\n",
        "with open(file, 'w') as f:\n",
        "    for data in result3:\n",
        "        f.writelines(data + \"\\n\")"
      ],
      "execution_count": null,
      "outputs": []
    },
    {
      "cell_type": "markdown",
      "metadata": {
        "id": "g4OdtDYLVzjh"
      },
      "source": [
        "**Result 4**"
      ]
    },
    {
      "cell_type": "code",
      "metadata": {
        "colab": {
          "base_uri": "https://localhost:8080/"
        },
        "id": "Hc39FyNsVy73",
        "outputId": "aa56d5ab-6d39-43c2-c68a-bf767b075ea4"
      },
      "source": [
        "from sklearn.multiclass import OneVsRestClassifier\n",
        "result4 = train_model(OneVsRestClassifier(SGDClassifier()), X_data_tfidf, y_train, X_test_tfidf)"
      ],
      "execution_count": null,
      "outputs": [
        {
          "output_type": "stream",
          "text": [
            "Training accuracy:  0.8802612255101084\n"
          ],
          "name": "stdout"
        }
      ]
    },
    {
      "cell_type": "code",
      "metadata": {
        "id": "84rZnsvGXc2Q"
      },
      "source": [
        "file = './nhom10_AD_SOL4.txt'\n",
        "with open(file, 'w') as f:\n",
        "    for data in result4:\n",
        "        f.writelines(data + \"\\n\")"
      ],
      "execution_count": null,
      "outputs": []
    },
    {
      "cell_type": "markdown",
      "metadata": {
        "id": "GppkfxwcXl_2"
      },
      "source": [
        "**Result 5**"
      ]
    },
    {
      "cell_type": "code",
      "metadata": {
        "colab": {
          "base_uri": "https://localhost:8080/"
        },
        "id": "BgT3GGpgXoMw",
        "outputId": "2c8c3721-6234-40a6-fa46-479a06b4d25c"
      },
      "source": [
        "result5 = train_model(OneVsRestClassifier(MultinomialNB()), X_data_tfidf, y_train, X_test_tfidf)"
      ],
      "execution_count": null,
      "outputs": [
        {
          "output_type": "stream",
          "text": [
            "Training accuracy:  0.7872386963722151\n"
          ],
          "name": "stdout"
        }
      ]
    },
    {
      "cell_type": "code",
      "metadata": {
        "id": "LtGzwzROX9-8"
      },
      "source": [
        "file = './nhom10_AD_SOL5.txt'\n",
        "with open(file, 'w') as f:\n",
        "    for data in result5:\n",
        "        f.writelines(data + \"\\n\")"
      ],
      "execution_count": null,
      "outputs": []
    }
  ]
}