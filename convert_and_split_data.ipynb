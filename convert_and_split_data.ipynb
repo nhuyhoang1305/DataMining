{
  "nbformat": 4,
  "nbformat_minor": 0,
  "metadata": {
    "colab": {
      "name": "convert and split data.ipynb",
      "provenance": [],
      "collapsed_sections": []
    },
    "kernelspec": {
      "name": "python3",
      "display_name": "Python 3"
    }
  },
  "cells": [
    {
      "cell_type": "code",
      "metadata": {
        "id": "KvzYC1oxG4Z7"
      },
      "source": [
        "import pandas as pd\n",
        "import numpy as np\n",
        "import warnings\n",
        "warnings.filterwarnings(\"ignore\")"
      ],
      "execution_count": null,
      "outputs": []
    },
    {
      "cell_type": "code",
      "metadata": {
        "id": "me9hnhkULXy6"
      },
      "source": [
        "# split data for train and test\n",
        "lines = []\n",
        "with open(\"agedetector_group_train.v1.0.txt\", \"r\") as f:\n",
        "  line = f.readline()\n",
        "  while line:\n",
        "    lines.append(line)\n",
        "    line = f.readline()"
      ],
      "execution_count": null,
      "outputs": []
    },
    {
      "cell_type": "code",
      "metadata": {
        "colab": {
          "base_uri": "https://localhost:8080/"
        },
        "id": "N9_vgfG7RL5V",
        "outputId": "b65aa6bb-62e2-419b-b110-ba8ef5b78095"
      },
      "source": [
        "len(lines)"
      ],
      "execution_count": null,
      "outputs": [
        {
          "output_type": "execute_result",
          "data": {
            "text/plain": [
              "32122"
            ]
          },
          "metadata": {
            "tags": []
          },
          "execution_count": 20
        }
      ]
    },
    {
      "cell_type": "code",
      "metadata": {
        "id": "9UiFKdsORN87"
      },
      "source": [
        "import random\n",
        "def splitData(dataSet, ratio):\n",
        "  trainSize = int (len(dataSet) * ratio)\n",
        "  trainSet = []\n",
        "  dataSetCopy = list(dataSet)\n",
        "  while len(trainSet) < trainSize:\n",
        "    index = random.randrange(len(dataSetCopy))\n",
        "    trainSet.append(dataSetCopy.pop(index))\n",
        "  return [trainSet, dataSetCopy]"
      ],
      "execution_count": null,
      "outputs": []
    },
    {
      "cell_type": "code",
      "metadata": {
        "id": "-SOBhKJ6S75A"
      },
      "source": [
        "trainSet = []\n",
        "testSet = []\n",
        "trainSet, testSet = splitData(lines, 0.7)"
      ],
      "execution_count": null,
      "outputs": []
    },
    {
      "cell_type": "code",
      "metadata": {
        "colab": {
          "base_uri": "https://localhost:8080/"
        },
        "id": "_8EXXWqCTCFW",
        "outputId": "d3495f32-10b7-4a6f-ff86-b70a5a1bcdb3"
      },
      "source": [
        "len(trainSet)"
      ],
      "execution_count": null,
      "outputs": [
        {
          "output_type": "execute_result",
          "data": {
            "text/plain": [
              "22485"
            ]
          },
          "metadata": {
            "tags": []
          },
          "execution_count": 28
        }
      ]
    },
    {
      "cell_type": "code",
      "metadata": {
        "colab": {
          "base_uri": "https://localhost:8080/"
        },
        "id": "EQMF3CbgTT6-",
        "outputId": "cf73ef3e-36ea-42a3-cace-47e407761371"
      },
      "source": [
        "len(testSet)"
      ],
      "execution_count": null,
      "outputs": [
        {
          "output_type": "execute_result",
          "data": {
            "text/plain": [
              "9637"
            ]
          },
          "metadata": {
            "tags": []
          },
          "execution_count": 29
        }
      ]
    },
    {
      "cell_type": "code",
      "metadata": {
        "id": "CiWYhvZoTVZl"
      },
      "source": [
        "with open(\"trainSet.txt\", \"w\") as f:\n",
        "  for line in trainSet:\n",
        "    f.writelines(line)"
      ],
      "execution_count": 40,
      "outputs": []
    },
    {
      "cell_type": "code",
      "metadata": {
        "id": "4N3V1XSbHLHY"
      },
      "source": [
        "# convert txt to csv\n",
        "# https://stackoverflow.com/questions/39642082/convert-txt-to-csv-python-script\n",
        "import csv\n",
        "with open(\"trainSet.txt\", \"r\") as f:\n",
        "    stripped = (line.strip() for line in f)\n",
        "    lines = (line.split(\" \", 1) for line in stripped)\n",
        "    with open(\"trainSet.csv\", \"w\") as out_file:\n",
        "      writer = csv.writer(out_file)\n",
        "      writer.writerow(('title', 'data'))\n",
        "      writer.writerows(lines) "
      ],
      "execution_count": 42,
      "outputs": []
    },
    {
      "cell_type": "code",
      "metadata": {
        "id": "2UJt760CUfHN"
      },
      "source": [
        "with open(\"testSet.txt\", \"w\") as f:\n",
        "  for line in testSet:\n",
        "    f.writelines(line)\n",
        "with open(\"testSet.txt\", \"r\") as f:\n",
        "    stripped = (line.strip() for line in f)\n",
        "    lines = (line.split(\" \", 1) for line in stripped)\n",
        "    with open(\"testSet.csv\", \"w\") as out_file:\n",
        "      writer = csv.writer(out_file)\n",
        "      writer.writerow(('title', 'data'))\n",
        "      writer.writerows(lines)"
      ],
      "execution_count": 43,
      "outputs": []
    },
    {
      "cell_type": "code",
      "metadata": {
        "id": "CSnzd__TVfbR"
      },
      "source": [
        ""
      ],
      "execution_count": null,
      "outputs": []
    }
  ]
}